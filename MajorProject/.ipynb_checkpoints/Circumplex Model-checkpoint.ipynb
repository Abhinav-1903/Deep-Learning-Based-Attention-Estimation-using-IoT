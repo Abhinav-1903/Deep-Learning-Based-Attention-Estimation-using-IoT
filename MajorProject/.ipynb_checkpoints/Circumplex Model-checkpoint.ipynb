{
 "cells": [
  {
   "cell_type": "code",
   "execution_count": null,
   "id": "25275f06",
   "metadata": {},
   "outputs": [],
   "source": [
    "import os\n",
    "import cv2\n",
    "import numpy as np\n",
    "from sklearn.svm import SVC\n",
    "from sklearn.metrics import accuracy_score, confusion_matrix\n",
    "from sklearn.model_selection import train_test_split\n",
    "\n",
    "# Function to load images from a directory and preprocess them\n",
    "def load_images_from_directory(directory):\n",
    "    images = []\n",
    "    labels = []\n",
    "    label_map = {'angry': 0, 'disgust': 1, 'fear': 2, 'happy': 3, 'neutral': 4, 'sad': 5, 'surprise': 6}\n",
    "    \n",
    "    for emotion in os.listdir(directory):\n",
    "        emotion_path = os.path.join(directory, emotion)\n",
    "        if os.path.isdir(emotion_path):\n",
    "            for filename in os.listdir(emotion_path):\n",
    "                img_path = os.path.join(emotion_path, filename)\n",
    "                img = cv2.imread(img_path)\n",
    "                if img is not None:\n",
    "                    img = cv2.cvtColor(img, cv2.COLOR_BGR2GRAY)  # Convert to grayscale\n",
    "                    img = cv2.resize(img, (48, 48))  # Resize to 48x48 (assuming your model expects this size)\n",
    "                    images.append(img)\n",
    "                    labels.append(label_map[emotion])\n",
    "\n",
    "    return np.array(images), np.array(labels)\n",
    "\n",
    "\n",
    "# Load the dataset directory\n",
    "dataset_directory = r\"C:\\Users\\Abhinav Vannoj\\Downloads\\project\\train\"\n",
    "\n",
    "# Load images and labels from the dataset directory\n",
    "X_train, y_train = load_images_from_directory(dataset_directory)\n",
    "\n",
    "# Split the dataset into training and testing sets\n",
    "X_train, X_test, y_train, y_test = train_test_split(X_train, y_train, test_size=0.2, random_state=42)\n",
    "X_train_flattened = X_train.reshape(X_train.shape[0], -1)\n",
    "\n",
    "# Train SVM model\n",
    "svm_model = SVC(kernel='linear')  # You can change the kernel type if needed\n",
    "svm_model.fit(X_train_flattened, y_train)\n",
    "\n",
    "# Predict labels for the test set\n",
    "X_test_flattened = X_test.reshape(X_test.shape[0], -1)\n",
    "predicted_labels = svm_model.predict(X_test_flattened)\n",
    "\n",
    "# Evaluate the SVM model\n",
    "svm_accuracy = accuracy_score(y_test, predicted_labels)\n",
    "svm_conf_matrix = confusion_matrix(y_test, predicted_labels)\n",
    "print(\"SVM Accuracy:\", svm_accuracy)\n",
    "print(\"SVM Confusion Matrix:\")\n",
    "print(svm_conf_matrix)\n"
   ]
  },
  {
   "cell_type": "code",
   "execution_count": 2,
   "id": "0808de35",
   "metadata": {},
   "outputs": [
    {
     "name": "stdout",
     "output_type": "stream",
     "text": [
      "Collecting keras-facenet\n",
      "  Downloading keras-facenet-0.3.2.tar.gz (10 kB)\n",
      "  Preparing metadata (setup.py): started\n",
      "  Preparing metadata (setup.py): finished with status 'done'\n",
      "Requirement already satisfied: mtcnn in c:\\users\\abhinav vannoj\\anaconda3\\lib\\site-packages (from keras-facenet) (0.1.1)\n",
      "Requirement already satisfied: keras>=2.0.0 in c:\\users\\abhinav vannoj\\anaconda3\\lib\\site-packages (from mtcnn->keras-facenet) (2.15.0)\n",
      "Requirement already satisfied: opencv-python>=4.1.0 in c:\\users\\abhinav vannoj\\anaconda3\\lib\\site-packages (from mtcnn->keras-facenet) (4.9.0.80)\n",
      "Requirement already satisfied: numpy>=1.21.2 in c:\\users\\abhinav vannoj\\anaconda3\\lib\\site-packages (from opencv-python>=4.1.0->mtcnn->keras-facenet) (1.24.3)\n",
      "Building wheels for collected packages: keras-facenet\n",
      "  Building wheel for keras-facenet (setup.py): started\n",
      "  Building wheel for keras-facenet (setup.py): finished with status 'done'\n",
      "  Created wheel for keras-facenet: filename=keras_facenet-0.3.2-py3-none-any.whl size=10387 sha256=66829f3361ab2c4da76eefd6aff44c9aa09c9e650304e8506f6300ac5d0a3268\n",
      "  Stored in directory: c:\\users\\abhinav vannoj\\appdata\\local\\pip\\cache\\wheels\\99\\94\\dd\\cb1a65a7440ba6d508bd24346c15af0b1d24ff8b1cdb1c9959\n",
      "Successfully built keras-facenet\n",
      "Installing collected packages: keras-facenet\n",
      "Successfully installed keras-facenet-0.3.2\n",
      "Note: you may need to restart the kernel to use updated packages.\n"
     ]
    }
   ],
   "source": [
    "pip install keras-facenet"
   ]
  },
  {
   "cell_type": "code",
   "execution_count": null,
   "id": "e6ffa954",
   "metadata": {},
   "outputs": [],
   "source": []
  }
 ],
 "metadata": {
  "kernelspec": {
   "display_name": "Python 3 (ipykernel)",
   "language": "python",
   "name": "python3"
  },
  "language_info": {
   "codemirror_mode": {
    "name": "ipython",
    "version": 3
   },
   "file_extension": ".py",
   "mimetype": "text/x-python",
   "name": "python",
   "nbconvert_exporter": "python",
   "pygments_lexer": "ipython3",
   "version": "3.11.5"
  }
 },
 "nbformat": 4,
 "nbformat_minor": 5
}
